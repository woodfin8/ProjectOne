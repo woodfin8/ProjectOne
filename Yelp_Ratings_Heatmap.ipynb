{
 "cells": [
  {
   "cell_type": "code",
   "execution_count": null,
   "metadata": {},
   "outputs": [],
   "source": [
    "import pandas as pd\n",
    "import numpy as np\n",
    "import matplotlib.pyplot as plt\n",
    "import scipy.stats as sts\n",
    "import gmaps\n",
    "\n",
    "# Import business dataset from resources\n",
    "biz1_df = pd.read_json('Resources/yelp_academic_dataset_business.json', lines=True)\n",
    "\n",
    "# save the row data for \n",
    "biz1_df = biz1_df.loc[(biz1_df['name'] == \"The Halal Guys\") |               # 10\n",
    "                      (biz1_df['name'] == \"Chipotle Mexican Grill\") |       # 183\n",
    "                      (biz1_df['name'] == \"Taco Bell\") |                    # 313\n",
    "                      (biz1_df['name'] == \"McDonald's\") |                   # 806\n",
    "                      (biz1_df['name'] == \"Panera Bread\") |                 # 157\n",
    "                      (biz1_df['name'] == \"Five Guys Burgers and Fries\") |  # 10\n",
    "                      (biz1_df['name'] == \"Five Guys\") |                    # 99\n",
    "                      (biz1_df['name'] == \"Texas Roadhouse\") |              # 24\n",
    "                      (biz1_df['name'] == \"Shake Shack\")                    # 10\n",
    "                       , :]  \n",
    "\n",
    "# 'Five Guys' will need to combine with 'Five Guys Burgers and Fries'\n",
    "biz1_df['name'] = biz1_df['name'].replace({\"Five Guys Burgers and Fries\":\"Five Guys\"})\n",
    "biz1_df['name'].value_counts()"
   ]
  }
 ],
 "metadata": {
  "kernelspec": {
   "display_name": "Python 3",
   "language": "python",
   "name": "python3"
  },
  "language_info": {
   "codemirror_mode": {
    "name": "ipython",
    "version": 3
   },
   "file_extension": ".py",
   "mimetype": "text/x-python",
   "name": "python",
   "nbconvert_exporter": "python",
   "pygments_lexer": "ipython3",
   "version": "3.7.3"
  }
 },
 "nbformat": 4,
 "nbformat_minor": 2
}
